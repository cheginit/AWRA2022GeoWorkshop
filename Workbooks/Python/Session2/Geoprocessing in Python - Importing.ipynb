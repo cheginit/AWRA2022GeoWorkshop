{
 "cells": [
  {
   "cell_type": "markdown",
   "id": "b6a672ba",
   "metadata": {},
   "source": [
    "## Lesson 1: Accessing Spatial Data Files\n",
    "- There are several ways we typically get spatial data into R:\n",
    "  + Load spatial files we have on our machine or from remote source\n",
    "  + Load spatial data that is part of an R package\n",
    "  + Grab data using API (often making use of particular R packages)\n",
    "  + Converting flat files with x,y data to spatial data\n",
    "  + Geocoding data"
   ]
  },
  {
   "cell_type": "markdown",
   "id": "fcf72035",
   "metadata": {},
   "source": [
    "### Vector Data"
   ]
  },
  {
   "cell_type": "markdown",
   "id": "cceea7e7",
   "metadata": {},
   "source": [
    "The main library I like to use for for reading vector data in Python is `geopandas`. Note that any arguments passed to `geopandas.read_file()` after the file name will be passed directly to `fiona.open()`"
   ]
  },
  {
   "cell_type": "markdown",
   "id": "6e733736",
   "metadata": {},
   "source": [
    "We can get a list of supported file formats for vector data using `fiona.supported_drivers`"
   ]
  },
  {
   "cell_type": "code",
   "execution_count": 1,
   "id": "478b6525",
   "metadata": {},
   "outputs": [
    {
     "data": {
      "text/plain": [
       "{'ARCGEN': 'r',\n",
       " 'DXF': 'rw',\n",
       " 'CSV': 'raw',\n",
       " 'OpenFileGDB': 'r',\n",
       " 'ESRIJSON': 'r',\n",
       " 'ESRI Shapefile': 'raw',\n",
       " 'FlatGeobuf': 'rw',\n",
       " 'GeoJSON': 'raw',\n",
       " 'GeoJSONSeq': 'rw',\n",
       " 'GPKG': 'raw',\n",
       " 'GML': 'rw',\n",
       " 'OGR_GMT': 'rw',\n",
       " 'GPX': 'rw',\n",
       " 'GPSTrackMaker': 'rw',\n",
       " 'Idrisi': 'r',\n",
       " 'MapInfo File': 'raw',\n",
       " 'DGN': 'raw',\n",
       " 'PCIDSK': 'rw',\n",
       " 'OGR_PDS': 'r',\n",
       " 'S57': 'r',\n",
       " 'SQLite': 'raw',\n",
       " 'TopoJSON': 'r'}"
      ]
     },
     "execution_count": 1,
     "metadata": {},
     "output_type": "execute_result"
    }
   ],
   "source": [
    "import fiona\n",
    "fiona.supported_drivers\n",
    "# help(fiona.open) #for more details and parameters"
   ]
  },
  {
   "cell_type": "markdown",
   "id": "26f2c47c",
   "metadata": {},
   "source": [
    "#### Read in shapefiles with geopandas\n",
    "Note that geopandas can read a zipped shapefile - no need to download and unzip! An advantage over `st_read` in R with `sf`"
   ]
  },
  {
   "cell_type": "code",
   "execution_count": 8,
   "id": "8f8f7434",
   "metadata": {},
   "outputs": [
    {
     "data": {
      "text/plain": [
       "<AxesSubplot:>"
      ]
     },
     "execution_count": 8,
     "metadata": {},
     "output_type": "execute_result"
    },
    {
     "data": {
      "image/png": "[encoded data removed]",
      "text/plain": [
       "<Figure size 432x288 with 1 Axes>"
      ]
     },
     "metadata": {
      "needs_background": "light"
     },
     "output_type": "display_data"
    }
   ],
   "source": [
    "import geopandas as gpd\n",
    "cities = gpd.read_file(\"ftp://ftp.gis.oregon.gov/adminbound/citylim_2017.zip\")\n",
    "cities.plot()"
   ]
  },
  {
   "cell_type": "markdown",
   "id": "04ded82f",
   "metadata": {},
   "source": [
    "#### Read in data from ESRI geodatabase with geopandas\n",
    "First we'll list the layers in the geodatabase.  We can use `fiona.listlayers` to do this."
   ]
  },
  {
   "cell_type": "code",
   "execution_count": 6,
   "id": "731c7809",
   "metadata": {},
   "outputs": [
    {
     "data": {
      "text/plain": [
       "['LO_PARKS']"
      ]
     },
     "execution_count": 6,
     "metadata": {},
     "output_type": "execute_result"
    }
   ],
   "source": [
    "import fiona\n",
    "fiona.listlayers('GitProjects/AWRA2022GeoWorkshop/Workbooks/R/Session2/OregonStateParks_20181010.gdb')"
   ]
  },
  {
   "cell_type": "markdown",
   "id": "4afe0869",
   "metadata": {},
   "source": [
    "Here we emulate how we read an ESRI file geodabase file in R with `sf`.  Note that we can specify layer by name or index in `geopandas` (though in this case there is only one layer)."
   ]
  },
  {
   "cell_type": "code",
   "execution_count": 9,
   "id": "2d45fcd0",
   "metadata": {},
   "outputs": [
    {
     "data": {
      "text/plain": [
       "<AxesSubplot:>"
      ]
     },
     "execution_count": 9,
     "metadata": {},
     "output_type": "execute_result"
    },
    {
     "data": {
      "image/png": "[encoded data removed]",
      "text/plain": [
       "<Figure size 432x288 with 1 Axes>"
      ]
     },
     "metadata": {
      "needs_background": "light"
     },
     "output_type": "display_data"
    }
   ],
   "source": [
    "# parks = gpd.read_file('GitProjects/AWRA2022GeoWorkshop/Workbooks/R/Session2/OregonStateParks_20181010.gdb', \n",
    "#                     driver='FileGDB', layer='LO_PARKS')\n",
    "parks = gpd.read_file('GitProjects/AWRA2022GeoWorkshop/Workbooks/R/Session2/OregonStateParks_20181010.gdb', \n",
    "                    driver='FileGDB', layer=0)\n",
    "parks.plot()"
   ]
  },
  {
   "cell_type": "code",
   "execution_count": null,
   "id": "69ce4f04",
   "metadata": {},
   "outputs": [],
   "source": []
  }
 ],
 "metadata": {
  "kernelspec": {
   "display_name": "Python 3 (ipykernel)",
   "language": "python",
   "name": "python3"
  },
  "language_info": {
   "codemirror_mode": {
    "name": "ipython",
    "version": 3
   },
   "file_extension": ".py",
   "mimetype": "text/x-python",
   "name": "python",
   "nbconvert_exporter": "python",
   "pygments_lexer": "ipython3",
   "version": "3.9.7"
  }
 },
 "nbformat": 4,
 "nbformat_minor": 5
}
